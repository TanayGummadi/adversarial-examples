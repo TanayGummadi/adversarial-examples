{
 "cells": [
  {
   "cell_type": "code",
   "execution_count": 1,
   "metadata": {},
   "outputs": [],
   "source": [
    "import pandas as pd\n",
    "import seaborn as sn\n",
    "import json"
   ]
  },
  {
   "cell_type": "code",
   "execution_count": 2,
   "metadata": {},
   "outputs": [],
   "source": [
    "with open('filtered.json') as json_file:\n",
    "  data = json.load(json_file)\n",
    "\n",
    "  annotations = data['annotations']\n",
    "  categories = data['categories']\n",
    "\n",
    "with open('captions.json') as json_file:\n",
    "  data = json.load(json_file)\n",
    "\n",
    "  captions = data['annotations']"
   ]
  },
  {
   "cell_type": "code",
   "execution_count": 3,
   "metadata": {},
   "outputs": [],
   "source": [
    "df = pd.DataFrame.from_dict(annotations)\n",
    "cat_df = pd.DataFrame.from_dict(categories)\n",
    "cap_df = pd.DataFrame.from_dict(captions)"
   ]
  },
  {
   "cell_type": "code",
   "execution_count": 4,
   "metadata": {},
   "outputs": [
    {
     "data": {
      "text/html": [
       "<div>\n",
       "<style scoped>\n",
       "    .dataframe tbody tr th:only-of-type {\n",
       "        vertical-align: middle;\n",
       "    }\n",
       "\n",
       "    .dataframe tbody tr th {\n",
       "        vertical-align: top;\n",
       "    }\n",
       "\n",
       "    .dataframe thead th {\n",
       "        text-align: right;\n",
       "    }\n",
       "</style>\n",
       "<table border=\"1\" class=\"dataframe\">\n",
       "  <thead>\n",
       "    <tr style=\"text-align: right;\">\n",
       "      <th></th>\n",
       "      <th>segmentation</th>\n",
       "      <th>area</th>\n",
       "      <th>iscrowd</th>\n",
       "      <th>image_id</th>\n",
       "      <th>bbox</th>\n",
       "      <th>category_id</th>\n",
       "      <th>id</th>\n",
       "    </tr>\n",
       "  </thead>\n",
       "  <tbody>\n",
       "    <tr>\n",
       "      <th>0</th>\n",
       "      <td>[[510.66, 423.01, 511.72, 420.03, 510.45, 416....</td>\n",
       "      <td>702.10575</td>\n",
       "      <td>0</td>\n",
       "      <td>289343</td>\n",
       "      <td>[473.07, 395.93, 38.65, 28.67]</td>\n",
       "      <td>3</td>\n",
       "      <td>1768</td>\n",
       "    </tr>\n",
       "    <tr>\n",
       "      <th>1</th>\n",
       "      <td>[[204.01, 306.23, 206.07, 295.92, 216.38, 281....</td>\n",
       "      <td>5463.68640</td>\n",
       "      <td>0</td>\n",
       "      <td>289343</td>\n",
       "      <td>[204.01, 235.08, 60.84, 177.36]</td>\n",
       "      <td>1</td>\n",
       "      <td>201376</td>\n",
       "    </tr>\n",
       "    <tr>\n",
       "      <th>2</th>\n",
       "      <td>[[289.74, 443.39, 302.29, 445.32, 308.09, 427....</td>\n",
       "      <td>27718.47630</td>\n",
       "      <td>0</td>\n",
       "      <td>61471</td>\n",
       "      <td>[272.1, 200.23, 151.97, 279.77]</td>\n",
       "      <td>3</td>\n",
       "      <td>1773</td>\n",
       "    </tr>\n",
       "    <tr>\n",
       "      <th>3</th>\n",
       "      <td>[[147.76, 396.11, 158.48, 355.91, 153.12, 347....</td>\n",
       "      <td>78969.31690</td>\n",
       "      <td>0</td>\n",
       "      <td>472375</td>\n",
       "      <td>[124.71, 196.18, 372.85, 356.81]</td>\n",
       "      <td>3</td>\n",
       "      <td>2551</td>\n",
       "    </tr>\n",
       "    <tr>\n",
       "      <th>4</th>\n",
       "      <td>[[260.4, 231.26, 215.06, 274.01, 194.33, 307.6...</td>\n",
       "      <td>108316.66515</td>\n",
       "      <td>0</td>\n",
       "      <td>520301</td>\n",
       "      <td>[112.71, 154.82, 367.29, 479.35]</td>\n",
       "      <td>3</td>\n",
       "      <td>3186</td>\n",
       "    </tr>\n",
       "  </tbody>\n",
       "</table>\n",
       "</div>"
      ],
      "text/plain": [
       "                                        segmentation          area  iscrowd  \\\n",
       "0  [[510.66, 423.01, 511.72, 420.03, 510.45, 416....     702.10575        0   \n",
       "1  [[204.01, 306.23, 206.07, 295.92, 216.38, 281....    5463.68640        0   \n",
       "2  [[289.74, 443.39, 302.29, 445.32, 308.09, 427....   27718.47630        0   \n",
       "3  [[147.76, 396.11, 158.48, 355.91, 153.12, 347....   78969.31690        0   \n",
       "4  [[260.4, 231.26, 215.06, 274.01, 194.33, 307.6...  108316.66515        0   \n",
       "\n",
       "   image_id                              bbox  category_id      id  \n",
       "0    289343    [473.07, 395.93, 38.65, 28.67]            3    1768  \n",
       "1    289343   [204.01, 235.08, 60.84, 177.36]            1  201376  \n",
       "2     61471   [272.1, 200.23, 151.97, 279.77]            3    1773  \n",
       "3    472375  [124.71, 196.18, 372.85, 356.81]            3    2551  \n",
       "4    520301  [112.71, 154.82, 367.29, 479.35]            3    3186  "
      ]
     },
     "execution_count": 4,
     "metadata": {},
     "output_type": "execute_result"
    }
   ],
   "source": [
    "df.head()"
   ]
  },
  {
   "cell_type": "code",
   "execution_count": 5,
   "metadata": {},
   "outputs": [
    {
     "data": {
      "text/html": [
       "<div>\n",
       "<style scoped>\n",
       "    .dataframe tbody tr th:only-of-type {\n",
       "        vertical-align: middle;\n",
       "    }\n",
       "\n",
       "    .dataframe tbody tr th {\n",
       "        vertical-align: top;\n",
       "    }\n",
       "\n",
       "    .dataframe thead th {\n",
       "        text-align: right;\n",
       "    }\n",
       "</style>\n",
       "<table border=\"1\" class=\"dataframe\">\n",
       "  <thead>\n",
       "    <tr style=\"text-align: right;\">\n",
       "      <th></th>\n",
       "      <th>supercategory</th>\n",
       "      <th>id</th>\n",
       "      <th>name</th>\n",
       "    </tr>\n",
       "  </thead>\n",
       "  <tbody>\n",
       "    <tr>\n",
       "      <th>0</th>\n",
       "      <td>person</td>\n",
       "      <td>1</td>\n",
       "      <td>person</td>\n",
       "    </tr>\n",
       "    <tr>\n",
       "      <th>1</th>\n",
       "      <td>animal</td>\n",
       "      <td>2</td>\n",
       "      <td>cat</td>\n",
       "    </tr>\n",
       "    <tr>\n",
       "      <th>2</th>\n",
       "      <td>animal</td>\n",
       "      <td>3</td>\n",
       "      <td>dog</td>\n",
       "    </tr>\n",
       "  </tbody>\n",
       "</table>\n",
       "</div>"
      ],
      "text/plain": [
       "  supercategory  id    name\n",
       "0        person   1  person\n",
       "1        animal   2     cat\n",
       "2        animal   3     dog"
      ]
     },
     "execution_count": 5,
     "metadata": {},
     "output_type": "execute_result"
    }
   ],
   "source": [
    "cat_df.head()"
   ]
  },
  {
   "cell_type": "code",
   "execution_count": 6,
   "metadata": {},
   "outputs": [
    {
     "data": {
      "text/html": [
       "<div>\n",
       "<style scoped>\n",
       "    .dataframe tbody tr th:only-of-type {\n",
       "        vertical-align: middle;\n",
       "    }\n",
       "\n",
       "    .dataframe tbody tr th {\n",
       "        vertical-align: top;\n",
       "    }\n",
       "\n",
       "    .dataframe thead th {\n",
       "        text-align: right;\n",
       "    }\n",
       "</style>\n",
       "<table border=\"1\" class=\"dataframe\">\n",
       "  <thead>\n",
       "    <tr style=\"text-align: right;\">\n",
       "      <th></th>\n",
       "      <th>image_id</th>\n",
       "      <th>id</th>\n",
       "      <th>caption</th>\n",
       "    </tr>\n",
       "  </thead>\n",
       "  <tbody>\n",
       "    <tr>\n",
       "      <th>0</th>\n",
       "      <td>179765</td>\n",
       "      <td>38</td>\n",
       "      <td>A black Honda motorcycle parked in front of a ...</td>\n",
       "    </tr>\n",
       "    <tr>\n",
       "      <th>1</th>\n",
       "      <td>179765</td>\n",
       "      <td>182</td>\n",
       "      <td>A Honda motorcycle parked in a grass driveway</td>\n",
       "    </tr>\n",
       "    <tr>\n",
       "      <th>2</th>\n",
       "      <td>190236</td>\n",
       "      <td>401</td>\n",
       "      <td>An office cubicle with four different types of...</td>\n",
       "    </tr>\n",
       "    <tr>\n",
       "      <th>3</th>\n",
       "      <td>331352</td>\n",
       "      <td>441</td>\n",
       "      <td>A small closed toilet in a cramped space.</td>\n",
       "    </tr>\n",
       "    <tr>\n",
       "      <th>4</th>\n",
       "      <td>517069</td>\n",
       "      <td>447</td>\n",
       "      <td>Two women waiting at a bench next to a street.</td>\n",
       "    </tr>\n",
       "  </tbody>\n",
       "</table>\n",
       "</div>"
      ],
      "text/plain": [
       "   image_id   id                                            caption\n",
       "0    179765   38  A black Honda motorcycle parked in front of a ...\n",
       "1    179765  182      A Honda motorcycle parked in a grass driveway\n",
       "2    190236  401  An office cubicle with four different types of...\n",
       "3    331352  441          A small closed toilet in a cramped space.\n",
       "4    517069  447     Two women waiting at a bench next to a street."
      ]
     },
     "execution_count": 6,
     "metadata": {},
     "output_type": "execute_result"
    }
   ],
   "source": [
    "cap_df.head()"
   ]
  }
 ],
 "metadata": {
  "interpreter": {
   "hash": "fddaa057b932d71860be34c8ca8590ed51a2aa093082cda792b8774dc568e958"
  },
  "kernelspec": {
   "display_name": "Python 3.9.7 64-bit ('cloakcam': conda)",
   "name": "python3"
  },
  "language_info": {
   "codemirror_mode": {
    "name": "ipython",
    "version": 3
   },
   "file_extension": ".py",
   "mimetype": "text/x-python",
   "name": "python",
   "nbconvert_exporter": "python",
   "pygments_lexer": "ipython3",
   "version": "3.9.7"
  },
  "orig_nbformat": 4
 },
 "nbformat": 4,
 "nbformat_minor": 2
}
